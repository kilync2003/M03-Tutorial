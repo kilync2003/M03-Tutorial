{
 "cells": [
  {
   "cell_type": "code",
   "execution_count": null,
   "metadata": {},
   "outputs": [],
   "source": [
    "#OOP Programming\n",
    "class Solution:\n",
    "    def sort012(self,arr,n):\n",
    "        return(arr.sort())\n",
    "#Functional Programming            \n",
    "class Solution:\t\n",
    "\tdef binarysearch(self, arr, n, k):\n",
    "\t    count = 0\n",
    "\t    flag = False\n",
    "\t    for i in arr:\n",
    "\t\t    if i == k:\n",
    "\t\t    return(str(count))\n",
    "\t\t    flag = True\n",
    "\t\t    count = count+1\n",
    "            if flag != True:\n",
    "\t\t        return(str(k))\n",
    "\t\t  \n",
    "        "
   ]
  }
 ],
 "metadata": {
  "language_info": {
   "name": "python"
  }
 },
 "nbformat": 4,
 "nbformat_minor": 2
}
